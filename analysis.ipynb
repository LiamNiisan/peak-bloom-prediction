{
 "cells": [
  {
   "cell_type": "code",
   "execution_count": 1,
   "metadata": {},
   "outputs": [
    {
     "name": "stderr",
     "output_type": "stream",
     "text": [
      "── \u001b[1mAttaching packages\u001b[22m ─────────────────────────────────────── tidyverse 1.3.1 ──\n",
      "\n",
      "\u001b[32m✔\u001b[39m \u001b[34mggplot2\u001b[39m 3.3.5     \u001b[32m✔\u001b[39m \u001b[34mpurrr  \u001b[39m 0.3.4\n",
      "\u001b[32m✔\u001b[39m \u001b[34mtibble \u001b[39m 3.1.5     \u001b[32m✔\u001b[39m \u001b[34mdplyr  \u001b[39m 1.0.7\n",
      "\u001b[32m✔\u001b[39m \u001b[34mtidyr  \u001b[39m 1.1.3     \u001b[32m✔\u001b[39m \u001b[34mstringr\u001b[39m 1.4.0\n",
      "\u001b[32m✔\u001b[39m \u001b[34mreadr  \u001b[39m 2.0.2     \u001b[32m✔\u001b[39m \u001b[34mforcats\u001b[39m 0.5.1\n",
      "\n",
      "── \u001b[1mConflicts\u001b[22m ────────────────────────────────────────── tidyverse_conflicts() ──\n",
      "\u001b[31m✖\u001b[39m \u001b[34mdplyr\u001b[39m::\u001b[32mfilter()\u001b[39m masks \u001b[34mstats\u001b[39m::filter()\n",
      "\u001b[31m✖\u001b[39m \u001b[34mdplyr\u001b[39m::\u001b[32mlag()\u001b[39m    masks \u001b[34mstats\u001b[39m::lag()\n",
      "\n",
      "\n",
      "Attaching package: ‘lubridate’\n",
      "\n",
      "\n",
      "The following objects are masked from ‘package:base’:\n",
      "\n",
      "    date, intersect, setdiff, union\n",
      "\n",
      "\n",
      "\n",
      "Attaching package: ‘mltools’\n",
      "\n",
      "\n",
      "The following object is masked from ‘package:tidyr’:\n",
      "\n",
      "    replace_na\n",
      "\n",
      "\n",
      "Registered S3 method overwritten by 'hoardr':\n",
      "  method           from\n",
      "  print.cache_info httr\n",
      "\n"
     ]
    }
   ],
   "source": [
    "library(tidyverse)\n",
    "library(lubridate)\n",
    "library(broom)\n",
    "library(mltools)\n",
    "library(rnoaa)"
   ]
  },
  {
   "cell_type": "code",
   "execution_count": 2,
   "metadata": {},
   "outputs": [],
   "source": [
    "WASHINGTON_STATION_ID <- \"USC00186350\"\n",
    "LIESTAL_STATION_ID <- \"GME00127786\"\n",
    "KYOTO_STATION_ID <- \"JA000047759\"\n",
    "VANCOUVER_STATION_ID <- \"CA001108395\"\n",
    "\n",
    "station_names <- list(\n",
    "    \"USC00186350\" = \"washingtondc\",\n",
    "    \"GME00127786\" = \"liestal\",\n",
    "    \"JA000047759\" = \"kyoto\",\n",
    "    \"CA001108395\" = \"vancouver\"\n",
    ")\n",
    "\n",
    "bloom_definition <- list(\n",
    "    \"washingtondc\" = 0.70,\n",
    "    \"liestal\" = 0.25,\n",
    "    \"kyoto\" = 0.80,\n",
    "    \"vancouver\" = 0.70\n",
    ")\n",
    "\n",
    "species <- list(\n",
    "    \"washingtondc\" = \"prunus_jamasakura\",\n",
    "    \"liestal\" = \"prunus_avium\",\n",
    "    \"kyoto\" = \"prunus_x_yedoensis\",\n",
    "    \"vancouver\" = \"prunus_x_yedoensis\"\n",
    ")\n",
    "\n",
    "washington_df <- read_csv(\"data/washingtondc.csv\", show_col_types = FALSE)\n",
    "liestal_df <- read_csv(\"data/liestal.csv\", show_col_types = FALSE)\n",
    "kyoto_df <- read_csv(\"data/kyoto.csv\", show_col_types = FALSE)\n",
    "\n",
    "df <- bind_rows(washington_df, liestal_df, kyoto_df)"
   ]
  },
  {
   "cell_type": "code",
   "execution_count": 3,
   "metadata": {},
   "outputs": [
    {
     "data": {
      "text/html": [
       "<table class=\"dataframe\">\n",
       "<caption>A tibble: 6 × 7</caption>\n",
       "<thead>\n",
       "\t<tr><th scope=col>location</th><th scope=col>lat</th><th scope=col>long</th><th scope=col>alt</th><th scope=col>year</th><th scope=col>bloom_date</th><th scope=col>bloom_doy</th></tr>\n",
       "\t<tr><th scope=col>&lt;chr&gt;</th><th scope=col>&lt;dbl&gt;</th><th scope=col>&lt;dbl&gt;</th><th scope=col>&lt;dbl&gt;</th><th scope=col>&lt;dbl&gt;</th><th scope=col>&lt;date&gt;</th><th scope=col>&lt;dbl&gt;</th></tr>\n",
       "</thead>\n",
       "<tbody>\n",
       "\t<tr><td>washingtondc</td><td>38.88535</td><td>-77.03863</td><td>0</td><td>1921</td><td>1921-03-20</td><td> 79</td></tr>\n",
       "\t<tr><td>washingtondc</td><td>38.88535</td><td>-77.03863</td><td>0</td><td>1922</td><td>1922-04-07</td><td> 97</td></tr>\n",
       "\t<tr><td>washingtondc</td><td>38.88535</td><td>-77.03863</td><td>0</td><td>1923</td><td>1923-04-09</td><td> 99</td></tr>\n",
       "\t<tr><td>washingtondc</td><td>38.88535</td><td>-77.03863</td><td>0</td><td>1924</td><td>1924-04-13</td><td>104</td></tr>\n",
       "\t<tr><td>washingtondc</td><td>38.88535</td><td>-77.03863</td><td>0</td><td>1925</td><td>1925-03-27</td><td> 86</td></tr>\n",
       "\t<tr><td>washingtondc</td><td>38.88535</td><td>-77.03863</td><td>0</td><td>1926</td><td>1926-04-11</td><td>101</td></tr>\n",
       "</tbody>\n",
       "</table>\n"
      ],
      "text/latex": [
       "A tibble: 6 × 7\n",
       "\\begin{tabular}{lllllll}\n",
       " location & lat & long & alt & year & bloom\\_date & bloom\\_doy\\\\\n",
       " <chr> & <dbl> & <dbl> & <dbl> & <dbl> & <date> & <dbl>\\\\\n",
       "\\hline\n",
       "\t washingtondc & 38.88535 & -77.03863 & 0 & 1921 & 1921-03-20 &  79\\\\\n",
       "\t washingtondc & 38.88535 & -77.03863 & 0 & 1922 & 1922-04-07 &  97\\\\\n",
       "\t washingtondc & 38.88535 & -77.03863 & 0 & 1923 & 1923-04-09 &  99\\\\\n",
       "\t washingtondc & 38.88535 & -77.03863 & 0 & 1924 & 1924-04-13 & 104\\\\\n",
       "\t washingtondc & 38.88535 & -77.03863 & 0 & 1925 & 1925-03-27 &  86\\\\\n",
       "\t washingtondc & 38.88535 & -77.03863 & 0 & 1926 & 1926-04-11 & 101\\\\\n",
       "\\end{tabular}\n"
      ],
      "text/markdown": [
       "\n",
       "A tibble: 6 × 7\n",
       "\n",
       "| location &lt;chr&gt; | lat &lt;dbl&gt; | long &lt;dbl&gt; | alt &lt;dbl&gt; | year &lt;dbl&gt; | bloom_date &lt;date&gt; | bloom_doy &lt;dbl&gt; |\n",
       "|---|---|---|---|---|---|---|\n",
       "| washingtondc | 38.88535 | -77.03863 | 0 | 1921 | 1921-03-20 |  79 |\n",
       "| washingtondc | 38.88535 | -77.03863 | 0 | 1922 | 1922-04-07 |  97 |\n",
       "| washingtondc | 38.88535 | -77.03863 | 0 | 1923 | 1923-04-09 |  99 |\n",
       "| washingtondc | 38.88535 | -77.03863 | 0 | 1924 | 1924-04-13 | 104 |\n",
       "| washingtondc | 38.88535 | -77.03863 | 0 | 1925 | 1925-03-27 |  86 |\n",
       "| washingtondc | 38.88535 | -77.03863 | 0 | 1926 | 1926-04-11 | 101 |\n",
       "\n"
      ],
      "text/plain": [
       "  location     lat      long      alt year bloom_date bloom_doy\n",
       "1 washingtondc 38.88535 -77.03863 0   1921 1921-03-20  79      \n",
       "2 washingtondc 38.88535 -77.03863 0   1922 1922-04-07  97      \n",
       "3 washingtondc 38.88535 -77.03863 0   1923 1923-04-09  99      \n",
       "4 washingtondc 38.88535 -77.03863 0   1924 1924-04-13 104      \n",
       "5 washingtondc 38.88535 -77.03863 0   1925 1925-03-27  86      \n",
       "6 washingtondc 38.88535 -77.03863 0   1926 1926-04-11 101      "
      ]
     },
     "metadata": {},
     "output_type": "display_data"
    }
   ],
   "source": [
    "df |> head()"
   ]
  },
  {
   "cell_type": "code",
   "execution_count": 4,
   "metadata": {},
   "outputs": [
    {
     "name": "stderr",
     "output_type": "stream",
     "text": [
      "using cached file: ~/Library/Caches/R/noaa_ghcnd/USC00186350.dly\n",
      "\n",
      "date created (size, mb): 2022-02-26 21:02:03 (2.693)\n",
      "\n",
      "file min/max dates: 1948-08-01 / 2021-11-30\n",
      "\n",
      "`summarise()` has grouped output by 'year'. You can override using the `.groups` argument.\n",
      "\n",
      "using cached file: ~/Library/Caches/R/noaa_ghcnd/GME00127786.dly\n",
      "\n",
      "date created (size, mb): 2022-02-26 21:02:06 (1.557)\n",
      "\n",
      "file min/max dates: 1953-09-01 / 2022-01-31\n",
      "\n",
      "`summarise()` has grouped output by 'year'. You can override using the `.groups` argument.\n",
      "\n",
      "using cached file: ~/Library/Caches/R/noaa_ghcnd/JA000047759.dly\n",
      "\n",
      "date created (size, mb): 2022-02-26 21:02:08 (1.663)\n",
      "\n",
      "file min/max dates: 1945-10-01 / 2022-02-28\n",
      "\n",
      "`summarise()` has grouped output by 'year'. You can override using the `.groups` argument.\n",
      "\n"
     ]
    }
   ],
   "source": [
    "data <- NULL\n",
    "\n",
    "for (station in c(WASHINGTON_STATION_ID, LIESTAL_STATION_ID, KYOTO_STATION_ID))\n",
    "{\n",
    "    res <- ghcnd_search(\n",
    "        stationid = station,\n",
    "        var = c(\"TMAX\", \"PRCP\"),\n",
    "        date_min = \"1950-01-01\",\n",
    "        date_max = \"2021-12-31\"\n",
    "    )\n",
    "\n",
    "    temp <- left_join(res$tmax, res$prcp, by = \"date\") |>\n",
    "        select(date, tmax, prcp) |>\n",
    "        mutate(\n",
    "            year = year(date),\n",
    "            month = month(date),\n",
    "            year = ifelse(month > 3, year + 1, year),\n",
    "            tmax = tmax / 10,\n",
    "            tmax_delta = tmax - lag(tmax)\n",
    "        ) |>\n",
    "        group_by(year, month) |>\n",
    "        summarize(\n",
    "            tmax = mean(tmax, na.rm = TRUE),\n",
    "            tmax_delta = mean(tmax_delta, na.rm = TRUE),\n",
    "            prcp = mean(prcp, na.rm = TRUE)\n",
    "        ) |>\n",
    "        mutate(\n",
    "            location = station_names[[station]],\n",
    "            bloom_per = bloom_definition[[station_names[[station]]]],\n",
    "            species = species[[station_names[[station]]]]\n",
    "        )\n",
    "\n",
    "    data_station <- inner_join(\n",
    "        df,\n",
    "        pivot_wider(\n",
    "            temp,\n",
    "            values_from = tmax:prcp,\n",
    "            names_from = month\n",
    "        ),\n",
    "        by = c(\"location\", \"year\")\n",
    "    ) |>\n",
    "        mutate(\n",
    "            location = as.factor(location),\n",
    "            species = as.factor(species)\n",
    "        ) |>\n",
    "        drop_na()\n",
    "\n",
    "    if (is.data.frame(data)) {\n",
    "        data <- bind_rows(data, data_station)\n",
    "    } else {\n",
    "        data <- data_station\n",
    "    }\n",
    "}"
   ]
  },
  {
   "cell_type": "code",
   "execution_count": 5,
   "metadata": {},
   "outputs": [],
   "source": [
    "splitSample <- sample(c(\"train\", \"test\"), size=nrow(data), prob=c(0.70,0.30), replace = TRUE)\n",
    "train <- data[splitSample==\"train\",]\n",
    "test <- data[splitSample==\"test\",]"
   ]
  },
  {
   "cell_type": "code",
   "execution_count": 6,
   "metadata": {},
   "outputs": [
    {
     "data": {
      "text/html": [
       "<table class=\"dataframe\">\n",
       "<caption>A tibble: 6 × 45</caption>\n",
       "<thead>\n",
       "\t<tr><th scope=col>location</th><th scope=col>lat</th><th scope=col>long</th><th scope=col>alt</th><th scope=col>year</th><th scope=col>bloom_date</th><th scope=col>bloom_doy</th><th scope=col>bloom_per</th><th scope=col>species</th><th scope=col>tmax_1</th><th scope=col>⋯</th><th scope=col>prcp_3</th><th scope=col>prcp_4</th><th scope=col>prcp_5</th><th scope=col>prcp_6</th><th scope=col>prcp_7</th><th scope=col>prcp_8</th><th scope=col>prcp_9</th><th scope=col>prcp_10</th><th scope=col>prcp_11</th><th scope=col>prcp_12</th></tr>\n",
       "\t<tr><th scope=col>&lt;fct&gt;</th><th scope=col>&lt;dbl&gt;</th><th scope=col>&lt;dbl&gt;</th><th scope=col>&lt;dbl&gt;</th><th scope=col>&lt;dbl&gt;</th><th scope=col>&lt;date&gt;</th><th scope=col>&lt;dbl&gt;</th><th scope=col>&lt;dbl&gt;</th><th scope=col>&lt;fct&gt;</th><th scope=col>&lt;dbl&gt;</th><th scope=col>⋯</th><th scope=col>&lt;dbl&gt;</th><th scope=col>&lt;dbl&gt;</th><th scope=col>&lt;dbl&gt;</th><th scope=col>&lt;dbl&gt;</th><th scope=col>&lt;dbl&gt;</th><th scope=col>&lt;dbl&gt;</th><th scope=col>&lt;dbl&gt;</th><th scope=col>&lt;dbl&gt;</th><th scope=col>&lt;dbl&gt;</th><th scope=col>&lt;dbl&gt;</th></tr>\n",
       "</thead>\n",
       "<tbody>\n",
       "\t<tr><td>washingtondc</td><td>38.88535</td><td>-77.03863</td><td>0</td><td>1952</td><td>1952-04-09</td><td>100</td><td>0.7</td><td>prunus_jamasakura</td><td>9.716129</td><td>⋯</td><td>37.44444</td><td>30.26667</td><td>23.35484</td><td>68.40000</td><td>26.225806</td><td> 26.70968</td><td>25.700000</td><td>12.83871</td><td>35.33333</td><td>27.935484</td></tr>\n",
       "\t<tr><td>washingtondc</td><td>38.88535</td><td>-77.03863</td><td>0</td><td>1955</td><td>1955-04-02</td><td> 92</td><td>0.7</td><td>prunus_jamasakura</td><td>6.377419</td><td>⋯</td><td>31.45161</td><td>31.03333</td><td>34.92857</td><td>21.20000</td><td>19.580645</td><td> 35.90323</td><td> 6.100000</td><td>31.61290</td><td>17.30000</td><td>25.032258</td></tr>\n",
       "\t<tr><td>washingtondc</td><td>38.88535</td><td>-77.03863</td><td>0</td><td>1956</td><td>1956-04-06</td><td> 97</td><td>0.7</td><td>prunus_jamasakura</td><td>5.943333</td><td>⋯</td><td>32.82759</td><td>22.66667</td><td>21.61290</td><td>16.00000</td><td> 7.551724</td><td>118.25806</td><td> 6.933333</td><td>54.22581</td><td>13.20000</td><td> 2.032258</td></tr>\n",
       "\t<tr><td>washingtondc</td><td>38.88535</td><td>-77.03863</td><td>0</td><td>1958</td><td>1958-04-18</td><td>108</td><td>0.7</td><td>prunus_jamasakura</td><td>5.774194</td><td>⋯</td><td>62.22581</td><td>23.46667</td><td>17.48387</td><td>27.76667</td><td> 4.741935</td><td> 19.74194</td><td>34.433333</td><td>21.58065</td><td>22.40000</td><td>26.111111</td></tr>\n",
       "\t<tr><td>washingtondc</td><td>38.88535</td><td>-77.03863</td><td>0</td><td>1959</td><td>1959-04-06</td><td> 96</td><td>0.7</td><td>prunus_jamasakura</td><td>7.546667</td><td>⋯</td><td>20.54839</td><td>41.33333</td><td>26.48387</td><td>27.30000</td><td>61.774194</td><td> 60.06452</td><td>21.266667</td><td>22.06452</td><td>19.56667</td><td>13.419355</td></tr>\n",
       "\t<tr><td>washingtondc</td><td>38.88535</td><td>-77.03863</td><td>0</td><td>1960</td><td>1960-04-14</td><td>105</td><td>0.7</td><td>prunus_jamasakura</td><td>7.590323</td><td>⋯</td><td>15.96552</td><td>43.50000</td><td>27.51613</td><td>35.70000</td><td>33.709677</td><td> 42.80645</td><td>10.000000</td><td>28.90323</td><td>20.60000</td><td>28.709677</td></tr>\n",
       "</tbody>\n",
       "</table>\n"
      ],
      "text/latex": [
       "A tibble: 6 × 45\n",
       "\\begin{tabular}{lllllllllllllllllllll}\n",
       " location & lat & long & alt & year & bloom\\_date & bloom\\_doy & bloom\\_per & species & tmax\\_1 & ⋯ & prcp\\_3 & prcp\\_4 & prcp\\_5 & prcp\\_6 & prcp\\_7 & prcp\\_8 & prcp\\_9 & prcp\\_10 & prcp\\_11 & prcp\\_12\\\\\n",
       " <fct> & <dbl> & <dbl> & <dbl> & <dbl> & <date> & <dbl> & <dbl> & <fct> & <dbl> & ⋯ & <dbl> & <dbl> & <dbl> & <dbl> & <dbl> & <dbl> & <dbl> & <dbl> & <dbl> & <dbl>\\\\\n",
       "\\hline\n",
       "\t washingtondc & 38.88535 & -77.03863 & 0 & 1952 & 1952-04-09 & 100 & 0.7 & prunus\\_jamasakura & 9.716129 & ⋯ & 37.44444 & 30.26667 & 23.35484 & 68.40000 & 26.225806 &  26.70968 & 25.700000 & 12.83871 & 35.33333 & 27.935484\\\\\n",
       "\t washingtondc & 38.88535 & -77.03863 & 0 & 1955 & 1955-04-02 &  92 & 0.7 & prunus\\_jamasakura & 6.377419 & ⋯ & 31.45161 & 31.03333 & 34.92857 & 21.20000 & 19.580645 &  35.90323 &  6.100000 & 31.61290 & 17.30000 & 25.032258\\\\\n",
       "\t washingtondc & 38.88535 & -77.03863 & 0 & 1956 & 1956-04-06 &  97 & 0.7 & prunus\\_jamasakura & 5.943333 & ⋯ & 32.82759 & 22.66667 & 21.61290 & 16.00000 &  7.551724 & 118.25806 &  6.933333 & 54.22581 & 13.20000 &  2.032258\\\\\n",
       "\t washingtondc & 38.88535 & -77.03863 & 0 & 1958 & 1958-04-18 & 108 & 0.7 & prunus\\_jamasakura & 5.774194 & ⋯ & 62.22581 & 23.46667 & 17.48387 & 27.76667 &  4.741935 &  19.74194 & 34.433333 & 21.58065 & 22.40000 & 26.111111\\\\\n",
       "\t washingtondc & 38.88535 & -77.03863 & 0 & 1959 & 1959-04-06 &  96 & 0.7 & prunus\\_jamasakura & 7.546667 & ⋯ & 20.54839 & 41.33333 & 26.48387 & 27.30000 & 61.774194 &  60.06452 & 21.266667 & 22.06452 & 19.56667 & 13.419355\\\\\n",
       "\t washingtondc & 38.88535 & -77.03863 & 0 & 1960 & 1960-04-14 & 105 & 0.7 & prunus\\_jamasakura & 7.590323 & ⋯ & 15.96552 & 43.50000 & 27.51613 & 35.70000 & 33.709677 &  42.80645 & 10.000000 & 28.90323 & 20.60000 & 28.709677\\\\\n",
       "\\end{tabular}\n"
      ],
      "text/markdown": [
       "\n",
       "A tibble: 6 × 45\n",
       "\n",
       "| location &lt;fct&gt; | lat &lt;dbl&gt; | long &lt;dbl&gt; | alt &lt;dbl&gt; | year &lt;dbl&gt; | bloom_date &lt;date&gt; | bloom_doy &lt;dbl&gt; | bloom_per &lt;dbl&gt; | species &lt;fct&gt; | tmax_1 &lt;dbl&gt; | ⋯ ⋯ | prcp_3 &lt;dbl&gt; | prcp_4 &lt;dbl&gt; | prcp_5 &lt;dbl&gt; | prcp_6 &lt;dbl&gt; | prcp_7 &lt;dbl&gt; | prcp_8 &lt;dbl&gt; | prcp_9 &lt;dbl&gt; | prcp_10 &lt;dbl&gt; | prcp_11 &lt;dbl&gt; | prcp_12 &lt;dbl&gt; |\n",
       "|---|---|---|---|---|---|---|---|---|---|---|---|---|---|---|---|---|---|---|---|---|\n",
       "| washingtondc | 38.88535 | -77.03863 | 0 | 1952 | 1952-04-09 | 100 | 0.7 | prunus_jamasakura | 9.716129 | ⋯ | 37.44444 | 30.26667 | 23.35484 | 68.40000 | 26.225806 |  26.70968 | 25.700000 | 12.83871 | 35.33333 | 27.935484 |\n",
       "| washingtondc | 38.88535 | -77.03863 | 0 | 1955 | 1955-04-02 |  92 | 0.7 | prunus_jamasakura | 6.377419 | ⋯ | 31.45161 | 31.03333 | 34.92857 | 21.20000 | 19.580645 |  35.90323 |  6.100000 | 31.61290 | 17.30000 | 25.032258 |\n",
       "| washingtondc | 38.88535 | -77.03863 | 0 | 1956 | 1956-04-06 |  97 | 0.7 | prunus_jamasakura | 5.943333 | ⋯ | 32.82759 | 22.66667 | 21.61290 | 16.00000 |  7.551724 | 118.25806 |  6.933333 | 54.22581 | 13.20000 |  2.032258 |\n",
       "| washingtondc | 38.88535 | -77.03863 | 0 | 1958 | 1958-04-18 | 108 | 0.7 | prunus_jamasakura | 5.774194 | ⋯ | 62.22581 | 23.46667 | 17.48387 | 27.76667 |  4.741935 |  19.74194 | 34.433333 | 21.58065 | 22.40000 | 26.111111 |\n",
       "| washingtondc | 38.88535 | -77.03863 | 0 | 1959 | 1959-04-06 |  96 | 0.7 | prunus_jamasakura | 7.546667 | ⋯ | 20.54839 | 41.33333 | 26.48387 | 27.30000 | 61.774194 |  60.06452 | 21.266667 | 22.06452 | 19.56667 | 13.419355 |\n",
       "| washingtondc | 38.88535 | -77.03863 | 0 | 1960 | 1960-04-14 | 105 | 0.7 | prunus_jamasakura | 7.590323 | ⋯ | 15.96552 | 43.50000 | 27.51613 | 35.70000 | 33.709677 |  42.80645 | 10.000000 | 28.90323 | 20.60000 | 28.709677 |\n",
       "\n"
      ],
      "text/plain": [
       "  location     lat      long      alt year bloom_date bloom_doy bloom_per\n",
       "1 washingtondc 38.88535 -77.03863 0   1952 1952-04-09 100       0.7      \n",
       "2 washingtondc 38.88535 -77.03863 0   1955 1955-04-02  92       0.7      \n",
       "3 washingtondc 38.88535 -77.03863 0   1956 1956-04-06  97       0.7      \n",
       "4 washingtondc 38.88535 -77.03863 0   1958 1958-04-18 108       0.7      \n",
       "5 washingtondc 38.88535 -77.03863 0   1959 1959-04-06  96       0.7      \n",
       "6 washingtondc 38.88535 -77.03863 0   1960 1960-04-14 105       0.7      \n",
       "  species           tmax_1   ⋯ prcp_3   prcp_4   prcp_5   prcp_6   prcp_7   \n",
       "1 prunus_jamasakura 9.716129 ⋯ 37.44444 30.26667 23.35484 68.40000 26.225806\n",
       "2 prunus_jamasakura 6.377419 ⋯ 31.45161 31.03333 34.92857 21.20000 19.580645\n",
       "3 prunus_jamasakura 5.943333 ⋯ 32.82759 22.66667 21.61290 16.00000  7.551724\n",
       "4 prunus_jamasakura 5.774194 ⋯ 62.22581 23.46667 17.48387 27.76667  4.741935\n",
       "5 prunus_jamasakura 7.546667 ⋯ 20.54839 41.33333 26.48387 27.30000 61.774194\n",
       "6 prunus_jamasakura 7.590323 ⋯ 15.96552 43.50000 27.51613 35.70000 33.709677\n",
       "  prcp_8    prcp_9    prcp_10  prcp_11  prcp_12  \n",
       "1  26.70968 25.700000 12.83871 35.33333 27.935484\n",
       "2  35.90323  6.100000 31.61290 17.30000 25.032258\n",
       "3 118.25806  6.933333 54.22581 13.20000  2.032258\n",
       "4  19.74194 34.433333 21.58065 22.40000 26.111111\n",
       "5  60.06452 21.266667 22.06452 19.56667 13.419355\n",
       "6  42.80645 10.000000 28.90323 20.60000 28.709677"
      ]
     },
     "metadata": {},
     "output_type": "display_data"
    }
   ],
   "source": [
    "train |> head()"
   ]
  },
  {
   "cell_type": "code",
   "execution_count": 7,
   "metadata": {},
   "outputs": [
    {
     "data": {
      "image/png": "[encoded data removed]",
      "text/plain": [
       "plot without title"
      ]
     },
     "metadata": {
      "image/png": {
       "height": 420,
       "width": 420
      }
     },
     "output_type": "display_data"
    }
   ],
   "source": [
    "ggplot(train |> filter(year > 1990), aes(x = year, y = tmax_2)) +\n",
    "    geom_point(stat = \"summary\", fun = mean)"
   ]
  },
  {
   "cell_type": "code",
   "execution_count": 8,
   "metadata": {},
   "outputs": [
    {
     "data": {
      "image/png": "[encoded data removed]",
      "text/plain": [
       "plot without title"
      ]
     },
     "metadata": {
      "image/png": {
       "height": 420,
       "width": 420
      }
     },
     "output_type": "display_data"
    }
   ],
   "source": [
    "ggplot(train |> filter(year > 1950), aes(x = tmax_2, y = bloom_doy)) +\n",
    "    geom_point()"
   ]
  },
  {
   "cell_type": "code",
   "execution_count": 9,
   "metadata": {},
   "outputs": [],
   "source": [
    "bloom_lm <- train |>\n",
    "    lm(formula = bloom_doy ~ species + tmax_2 + tmax_delta_2 + tmax_delta_1 + tmax_delta_12)"
   ]
  },
  {
   "cell_type": "code",
   "execution_count": 10,
   "metadata": {},
   "outputs": [
    {
     "data": {
      "text/html": [
       "<table class=\"dataframe\">\n",
       "<caption>A tibble: 7 × 5</caption>\n",
       "<thead>\n",
       "\t<tr><th scope=col>term</th><th scope=col>estimate</th><th scope=col>std.error</th><th scope=col>statistic</th><th scope=col>p.value</th></tr>\n",
       "\t<tr><th scope=col>&lt;chr&gt;</th><th scope=col>&lt;dbl&gt;</th><th scope=col>&lt;dbl&gt;</th><th scope=col>&lt;dbl&gt;</th><th scope=col>&lt;dbl&gt;</th></tr>\n",
       "</thead>\n",
       "<tbody>\n",
       "\t<tr><td>(Intercept)              </td><td>110.8909135</td><td>2.6493036</td><td>41.8566271</td><td>4.833359e-73</td></tr>\n",
       "\t<tr><td>speciesprunus_avium      </td><td>  0.3356915</td><td>1.7219500</td><td> 0.1949485</td><td>8.457657e-01</td></tr>\n",
       "\t<tr><td>speciesprunus_x_yedoensis</td><td>  7.3960579</td><td>1.6621743</td><td> 4.4496284</td><td>1.948622e-05</td></tr>\n",
       "\t<tr><td>tmax_2                   </td><td> -1.9868147</td><td>0.2701912</td><td>-7.3533645</td><td>2.684483e-11</td></tr>\n",
       "\t<tr><td>tmax_delta_2             </td><td> -1.0388348</td><td>2.5748427</td><td>-0.4034556</td><td>6.873371e-01</td></tr>\n",
       "\t<tr><td>tmax_delta_1             </td><td>  5.6969011</td><td>3.9126338</td><td> 1.4560272</td><td>1.480184e-01</td></tr>\n",
       "\t<tr><td>tmax_delta_12            </td><td>  4.4683727</td><td>3.1375175</td><td> 1.4241746</td><td>1.570129e-01</td></tr>\n",
       "</tbody>\n",
       "</table>\n"
      ],
      "text/latex": [
       "A tibble: 7 × 5\n",
       "\\begin{tabular}{lllll}\n",
       " term & estimate & std.error & statistic & p.value\\\\\n",
       " <chr> & <dbl> & <dbl> & <dbl> & <dbl>\\\\\n",
       "\\hline\n",
       "\t (Intercept)               & 110.8909135 & 2.6493036 & 41.8566271 & 4.833359e-73\\\\\n",
       "\t speciesprunus\\_avium       &   0.3356915 & 1.7219500 &  0.1949485 & 8.457657e-01\\\\\n",
       "\t speciesprunus\\_x\\_yedoensis &   7.3960579 & 1.6621743 &  4.4496284 & 1.948622e-05\\\\\n",
       "\t tmax\\_2                    &  -1.9868147 & 0.2701912 & -7.3533645 & 2.684483e-11\\\\\n",
       "\t tmax\\_delta\\_2              &  -1.0388348 & 2.5748427 & -0.4034556 & 6.873371e-01\\\\\n",
       "\t tmax\\_delta\\_1              &   5.6969011 & 3.9126338 &  1.4560272 & 1.480184e-01\\\\\n",
       "\t tmax\\_delta\\_12             &   4.4683727 & 3.1375175 &  1.4241746 & 1.570129e-01\\\\\n",
       "\\end{tabular}\n"
      ],
      "text/markdown": [
       "\n",
       "A tibble: 7 × 5\n",
       "\n",
       "| term &lt;chr&gt; | estimate &lt;dbl&gt; | std.error &lt;dbl&gt; | statistic &lt;dbl&gt; | p.value &lt;dbl&gt; |\n",
       "|---|---|---|---|---|\n",
       "| (Intercept)               | 110.8909135 | 2.6493036 | 41.8566271 | 4.833359e-73 |\n",
       "| speciesprunus_avium       |   0.3356915 | 1.7219500 |  0.1949485 | 8.457657e-01 |\n",
       "| speciesprunus_x_yedoensis |   7.3960579 | 1.6621743 |  4.4496284 | 1.948622e-05 |\n",
       "| tmax_2                    |  -1.9868147 | 0.2701912 | -7.3533645 | 2.684483e-11 |\n",
       "| tmax_delta_2              |  -1.0388348 | 2.5748427 | -0.4034556 | 6.873371e-01 |\n",
       "| tmax_delta_1              |   5.6969011 | 3.9126338 |  1.4560272 | 1.480184e-01 |\n",
       "| tmax_delta_12             |   4.4683727 | 3.1375175 |  1.4241746 | 1.570129e-01 |\n",
       "\n"
      ],
      "text/plain": [
       "  term                      estimate    std.error statistic  p.value     \n",
       "1 (Intercept)               110.8909135 2.6493036 41.8566271 4.833359e-73\n",
       "2 speciesprunus_avium         0.3356915 1.7219500  0.1949485 8.457657e-01\n",
       "3 speciesprunus_x_yedoensis   7.3960579 1.6621743  4.4496284 1.948622e-05\n",
       "4 tmax_2                     -1.9868147 0.2701912 -7.3533645 2.684483e-11\n",
       "5 tmax_delta_2               -1.0388348 2.5748427 -0.4034556 6.873371e-01\n",
       "6 tmax_delta_1                5.6969011 3.9126338  1.4560272 1.480184e-01\n",
       "7 tmax_delta_12               4.4683727 3.1375175  1.4241746 1.570129e-01"
      ]
     },
     "metadata": {},
     "output_type": "display_data"
    }
   ],
   "source": [
    "tidy(bloom_lm)"
   ]
  },
  {
   "cell_type": "code",
   "execution_count": 11,
   "metadata": {},
   "outputs": [
    {
     "data": {
      "text/html": [
       "<table class=\"dataframe\">\n",
       "<caption>A tibble: 1 × 12</caption>\n",
       "<thead>\n",
       "\t<tr><th scope=col>r.squared</th><th scope=col>adj.r.squared</th><th scope=col>sigma</th><th scope=col>statistic</th><th scope=col>p.value</th><th scope=col>df</th><th scope=col>logLik</th><th scope=col>AIC</th><th scope=col>BIC</th><th scope=col>deviance</th><th scope=col>df.residual</th><th scope=col>nobs</th></tr>\n",
       "\t<tr><th scope=col>&lt;dbl&gt;</th><th scope=col>&lt;dbl&gt;</th><th scope=col>&lt;dbl&gt;</th><th scope=col>&lt;dbl&gt;</th><th scope=col>&lt;dbl&gt;</th><th scope=col>&lt;dbl&gt;</th><th scope=col>&lt;dbl&gt;</th><th scope=col>&lt;dbl&gt;</th><th scope=col>&lt;dbl&gt;</th><th scope=col>&lt;dbl&gt;</th><th scope=col>&lt;int&gt;</th><th scope=col>&lt;int&gt;</th></tr>\n",
       "</thead>\n",
       "<tbody>\n",
       "\t<tr><td>0.3749629</td><td>0.3434484</td><td>6.952691</td><td>11.89812</td><td>1.985553e-10</td><td>6</td><td>-419.5155</td><td>855.031</td><td>877.7213</td><td>5752.449</td><td>119</td><td>126</td></tr>\n",
       "</tbody>\n",
       "</table>\n"
      ],
      "text/latex": [
       "A tibble: 1 × 12\n",
       "\\begin{tabular}{llllllllllll}\n",
       " r.squared & adj.r.squared & sigma & statistic & p.value & df & logLik & AIC & BIC & deviance & df.residual & nobs\\\\\n",
       " <dbl> & <dbl> & <dbl> & <dbl> & <dbl> & <dbl> & <dbl> & <dbl> & <dbl> & <dbl> & <int> & <int>\\\\\n",
       "\\hline\n",
       "\t 0.3749629 & 0.3434484 & 6.952691 & 11.89812 & 1.985553e-10 & 6 & -419.5155 & 855.031 & 877.7213 & 5752.449 & 119 & 126\\\\\n",
       "\\end{tabular}\n"
      ],
      "text/markdown": [
       "\n",
       "A tibble: 1 × 12\n",
       "\n",
       "| r.squared &lt;dbl&gt; | adj.r.squared &lt;dbl&gt; | sigma &lt;dbl&gt; | statistic &lt;dbl&gt; | p.value &lt;dbl&gt; | df &lt;dbl&gt; | logLik &lt;dbl&gt; | AIC &lt;dbl&gt; | BIC &lt;dbl&gt; | deviance &lt;dbl&gt; | df.residual &lt;int&gt; | nobs &lt;int&gt; |\n",
       "|---|---|---|---|---|---|---|---|---|---|---|---|\n",
       "| 0.3749629 | 0.3434484 | 6.952691 | 11.89812 | 1.985553e-10 | 6 | -419.5155 | 855.031 | 877.7213 | 5752.449 | 119 | 126 |\n",
       "\n"
      ],
      "text/plain": [
       "  r.squared adj.r.squared sigma    statistic p.value      df logLik    AIC    \n",
       "1 0.3749629 0.3434484     6.952691 11.89812  1.985553e-10 6  -419.5155 855.031\n",
       "  BIC      deviance df.residual nobs\n",
       "1 877.7213 5752.449 119         126 "
      ]
     },
     "metadata": {},
     "output_type": "display_data"
    }
   ],
   "source": [
    "glance(bloom_lm)"
   ]
  },
  {
   "cell_type": "code",
   "execution_count": 12,
   "metadata": {},
   "outputs": [],
   "source": [
    "prediction <- bloom_lm |> predict(test)"
   ]
  },
  {
   "cell_type": "code",
   "execution_count": 13,
   "metadata": {},
   "outputs": [
    {
     "data": {
      "text/html": [
       "46.956944158572"
      ],
      "text/latex": [
       "46.956944158572"
      ],
      "text/markdown": [
       "46.956944158572"
      ],
      "text/plain": [
       "[1] 46.95694"
      ]
     },
     "metadata": {},
     "output_type": "display_data"
    }
   ],
   "source": [
    "mse(preds = prediction, actual = test$bloom_doy)"
   ]
  },
  {
   "cell_type": "code",
   "execution_count": 14,
   "metadata": {},
   "outputs": [
    {
     "data": {
      "text/html": [
       "0.257071609933001"
      ],
      "text/latex": [
       "0.257071609933001"
      ],
      "text/markdown": [
       "0.257071609933001"
      ],
      "text/plain": [
       "[1] 0.2570716"
      ]
     },
     "metadata": {},
     "output_type": "display_data"
    }
   ],
   "source": [
    "rss <- sum((prediction - test$bloom_doy) ^ 2)  \n",
    "tss <- sum((test$bloom_doy - mean(test$bloom_doy)) ^ 2)  \n",
    "rsq <- 1 - rss/tss\n",
    "rsq"
   ]
  },
  {
   "cell_type": "code",
   "execution_count": 17,
   "metadata": {},
   "outputs": [
    {
     "name": "stderr",
     "output_type": "stream",
     "text": [
      "using cached file: ~/Library/Caches/R/noaa_ghcnd/USC00186350.dly\n",
      "\n",
      "date created (size, mb): 2022-02-26 21:02:03 (2.693)\n",
      "\n",
      "file min/max dates: 1948-08-01 / 2021-11-30\n",
      "\n",
      "`summarise()` has grouped output by 'year'. You can override using the `.groups` argument.\n",
      "\n",
      "using cached file: ~/Library/Caches/R/noaa_ghcnd/GME00127786.dly\n",
      "\n",
      "date created (size, mb): 2022-02-26 21:02:06 (1.557)\n",
      "\n",
      "file min/max dates: 1953-09-01 / 2022-01-31\n",
      "\n",
      "`summarise()` has grouped output by 'year'. You can override using the `.groups` argument.\n",
      "\n",
      "using cached file: ~/Library/Caches/R/noaa_ghcnd/JA000047759.dly\n",
      "\n",
      "date created (size, mb): 2022-02-26 21:02:08 (1.663)\n",
      "\n",
      "file min/max dates: 1945-10-01 / 2022-02-28\n",
      "\n",
      "`summarise()` has grouped output by 'year'. You can override using the `.groups` argument.\n",
      "\n",
      "using cached file: ~/Library/Caches/R/noaa_ghcnd/CA001108395.dly\n",
      "\n",
      "date created (size, mb): 2022-02-26 21:02:10 (1.281)\n",
      "\n",
      "file min/max dates: 1957-01-01 / 2022-02-28\n",
      "\n",
      "`summarise()` has grouped output by 'year'. You can override using the `.groups` argument.\n",
      "\n"
     ]
    }
   ],
   "source": [
    "pred_data <- NULL\n",
    "\n",
    "for (station in c(WASHINGTON_STATION_ID, LIESTAL_STATION_ID, KYOTO_STATION_ID, VANCOUVER_STATION_ID))\n",
    "{\n",
    "    res <- ghcnd_search(\n",
    "        stationid = station,\n",
    "        var = c(\"TMAX\", \"PRCP\"),\n",
    "        date_min = \"2021-04-01\",\n",
    "        date_max = \"2022-02-28\"\n",
    "    )\n",
    "\n",
    "    temp <- left_join(res$tmax, res$prcp, by = \"date\") |>\n",
    "        select(date, tmax, prcp) |>\n",
    "        mutate(\n",
    "            year = year(date),\n",
    "            month = month(date),\n",
    "            year = ifelse(month > 3, year + 1, year),\n",
    "            tmax = tmax / 10,\n",
    "            tmax_delta = tmax - lag(tmax)\n",
    "        ) |>\n",
    "        group_by(year, month) |>\n",
    "        summarize(\n",
    "            tmax = mean(tmax, na.rm = TRUE),\n",
    "            tmax_delta = mean(tmax_delta, na.rm = TRUE),\n",
    "            prcp = mean(prcp, na.rm = TRUE)\n",
    "        ) |>\n",
    "        mutate(\n",
    "            location = station_names[[station]],\n",
    "            bloom_per = bloom_definition[[station_names[[station]]]],\n",
    "            species = species[[station_names[[station]]]]\n",
    "        )\n",
    "\n",
    "    data_station <- pivot_wider(\n",
    "            temp,\n",
    "            values_from = tmax:prcp,\n",
    "            names_from = month\n",
    "        ) |>\n",
    "        mutate(\n",
    "            location = as.factor(location),\n",
    "            species = as.factor(species)\n",
    "        ) |>\n",
    "        drop_na()\n",
    "\n",
    "    if (is.data.frame(pred_data)) {\n",
    "        pred_data <- bind_rows(pred_data, data_station)\n",
    "    } else {\n",
    "        pred_data <- data_station\n",
    "    }\n",
    "}"
   ]
  },
  {
   "cell_type": "code",
   "execution_count": 18,
   "metadata": {},
   "outputs": [
    {
     "data": {
      "text/html": [
       "<table class=\"dataframe\">\n",
       "<caption>A grouped_df: 4 × 37</caption>\n",
       "<thead>\n",
       "\t<tr><th scope=col>year</th><th scope=col>location</th><th scope=col>bloom_per</th><th scope=col>species</th><th scope=col>tmax_4</th><th scope=col>tmax_5</th><th scope=col>tmax_6</th><th scope=col>tmax_7</th><th scope=col>tmax_8</th><th scope=col>tmax_9</th><th scope=col>⋯</th><th scope=col>prcp_11</th><th scope=col>tmax_1</th><th scope=col>tmax_12</th><th scope=col>tmax_delta_1</th><th scope=col>tmax_delta_12</th><th scope=col>prcp_1</th><th scope=col>prcp_12</th><th scope=col>tmax_2</th><th scope=col>tmax_delta_2</th><th scope=col>prcp_2</th></tr>\n",
       "\t<tr><th scope=col>&lt;dbl&gt;</th><th scope=col>&lt;fct&gt;</th><th scope=col>&lt;dbl&gt;</th><th scope=col>&lt;fct&gt;</th><th scope=col>&lt;dbl&gt;</th><th scope=col>&lt;dbl&gt;</th><th scope=col>&lt;dbl&gt;</th><th scope=col>&lt;dbl&gt;</th><th scope=col>&lt;dbl&gt;</th><th scope=col>&lt;dbl&gt;</th><th scope=col>⋯</th><th scope=col>&lt;dbl&gt;</th><th scope=col>&lt;dbl&gt;</th><th scope=col>&lt;dbl&gt;</th><th scope=col>&lt;dbl&gt;</th><th scope=col>&lt;dbl&gt;</th><th scope=col>&lt;dbl&gt;</th><th scope=col>&lt;dbl&gt;</th><th scope=col>&lt;dbl&gt;</th><th scope=col>&lt;dbl&gt;</th><th scope=col>&lt;dbl&gt;</th></tr>\n",
       "</thead>\n",
       "<tbody>\n",
       "\t<tr><td>2022</td><td>washingtondc</td><td>0.70</td><td>prunus_jamasakura </td><td>20.00000</td><td>24.81481</td><td>29.84333</td><td>32.60645</td><td>32.10968</td><td>28.50000</td><td>⋯</td><td>  9.206897</td><td>      NA</td><td>       NA</td><td>        NA</td><td>        NA</td><td>      NA</td><td>      NA</td><td>      NA</td><td>        NA</td><td>      NA</td></tr>\n",
       "\t<tr><td>2022</td><td>liestal     </td><td>0.25</td><td>prunus_avium      </td><td>15.06000</td><td>17.22581</td><td>26.22000</td><td>24.56129</td><td>23.50000</td><td>23.49333</td><td>⋯</td><td> 15.800000</td><td>6.151613</td><td> 6.764516</td><td>-0.2741935</td><td> 0.3290323</td><td>12.51613</td><td>35.12903</td><td>      NA</td><td>        NA</td><td>      NA</td></tr>\n",
       "\t<tr><td>2022</td><td>kyoto       </td><td>0.80</td><td>prunus_x_yedoensis</td><td>20.73333</td><td>24.80357</td><td>29.05517</td><td>32.93000</td><td>32.45667</td><td>28.71333</td><td>⋯</td><td> 18.321429</td><td>8.222581</td><td>11.661290</td><td> 0.1967742</td><td>-0.4967742</td><td>13.48387</td><td>30.38710</td><td>9.021739</td><td>-0.2181818</td><td>7.695652</td></tr>\n",
       "\t<tr><td>2022</td><td>vancouver   </td><td>0.70</td><td>prunus_x_yedoensis</td><td>13.74000</td><td>16.30000</td><td>22.42143</td><td>24.02581</td><td>23.04839</td><td>18.58667</td><td>⋯</td><td>104.133333</td><td>6.454839</td><td> 3.967742</td><td> 0.3064516</td><td>-0.4387097</td><td>47.51613</td><td>34.96667</td><td>7.254167</td><td>-0.1250000</td><td>9.956522</td></tr>\n",
       "</tbody>\n",
       "</table>\n"
      ],
      "text/latex": [
       "A grouped\\_df: 4 × 37\n",
       "\\begin{tabular}{lllllllllllllllllllll}\n",
       " year & location & bloom\\_per & species & tmax\\_4 & tmax\\_5 & tmax\\_6 & tmax\\_7 & tmax\\_8 & tmax\\_9 & ⋯ & prcp\\_11 & tmax\\_1 & tmax\\_12 & tmax\\_delta\\_1 & tmax\\_delta\\_12 & prcp\\_1 & prcp\\_12 & tmax\\_2 & tmax\\_delta\\_2 & prcp\\_2\\\\\n",
       " <dbl> & <fct> & <dbl> & <fct> & <dbl> & <dbl> & <dbl> & <dbl> & <dbl> & <dbl> & ⋯ & <dbl> & <dbl> & <dbl> & <dbl> & <dbl> & <dbl> & <dbl> & <dbl> & <dbl> & <dbl>\\\\\n",
       "\\hline\n",
       "\t 2022 & washingtondc & 0.70 & prunus\\_jamasakura  & 20.00000 & 24.81481 & 29.84333 & 32.60645 & 32.10968 & 28.50000 & ⋯ &   9.206897 &       NA &        NA &         NA &         NA &       NA &       NA &       NA &         NA &       NA\\\\\n",
       "\t 2022 & liestal      & 0.25 & prunus\\_avium       & 15.06000 & 17.22581 & 26.22000 & 24.56129 & 23.50000 & 23.49333 & ⋯ &  15.800000 & 6.151613 &  6.764516 & -0.2741935 &  0.3290323 & 12.51613 & 35.12903 &       NA &         NA &       NA\\\\\n",
       "\t 2022 & kyoto        & 0.80 & prunus\\_x\\_yedoensis & 20.73333 & 24.80357 & 29.05517 & 32.93000 & 32.45667 & 28.71333 & ⋯ &  18.321429 & 8.222581 & 11.661290 &  0.1967742 & -0.4967742 & 13.48387 & 30.38710 & 9.021739 & -0.2181818 & 7.695652\\\\\n",
       "\t 2022 & vancouver    & 0.70 & prunus\\_x\\_yedoensis & 13.74000 & 16.30000 & 22.42143 & 24.02581 & 23.04839 & 18.58667 & ⋯ & 104.133333 & 6.454839 &  3.967742 &  0.3064516 & -0.4387097 & 47.51613 & 34.96667 & 7.254167 & -0.1250000 & 9.956522\\\\\n",
       "\\end{tabular}\n"
      ],
      "text/markdown": [
       "\n",
       "A grouped_df: 4 × 37\n",
       "\n",
       "| year &lt;dbl&gt; | location &lt;fct&gt; | bloom_per &lt;dbl&gt; | species &lt;fct&gt; | tmax_4 &lt;dbl&gt; | tmax_5 &lt;dbl&gt; | tmax_6 &lt;dbl&gt; | tmax_7 &lt;dbl&gt; | tmax_8 &lt;dbl&gt; | tmax_9 &lt;dbl&gt; | ⋯ ⋯ | prcp_11 &lt;dbl&gt; | tmax_1 &lt;dbl&gt; | tmax_12 &lt;dbl&gt; | tmax_delta_1 &lt;dbl&gt; | tmax_delta_12 &lt;dbl&gt; | prcp_1 &lt;dbl&gt; | prcp_12 &lt;dbl&gt; | tmax_2 &lt;dbl&gt; | tmax_delta_2 &lt;dbl&gt; | prcp_2 &lt;dbl&gt; |\n",
       "|---|---|---|---|---|---|---|---|---|---|---|---|---|---|---|---|---|---|---|---|---|\n",
       "| 2022 | washingtondc | 0.70 | prunus_jamasakura  | 20.00000 | 24.81481 | 29.84333 | 32.60645 | 32.10968 | 28.50000 | ⋯ |   9.206897 |       NA |        NA |         NA |         NA |       NA |       NA |       NA |         NA |       NA |\n",
       "| 2022 | liestal      | 0.25 | prunus_avium       | 15.06000 | 17.22581 | 26.22000 | 24.56129 | 23.50000 | 23.49333 | ⋯ |  15.800000 | 6.151613 |  6.764516 | -0.2741935 |  0.3290323 | 12.51613 | 35.12903 |       NA |         NA |       NA |\n",
       "| 2022 | kyoto        | 0.80 | prunus_x_yedoensis | 20.73333 | 24.80357 | 29.05517 | 32.93000 | 32.45667 | 28.71333 | ⋯ |  18.321429 | 8.222581 | 11.661290 |  0.1967742 | -0.4967742 | 13.48387 | 30.38710 | 9.021739 | -0.2181818 | 7.695652 |\n",
       "| 2022 | vancouver    | 0.70 | prunus_x_yedoensis | 13.74000 | 16.30000 | 22.42143 | 24.02581 | 23.04839 | 18.58667 | ⋯ | 104.133333 | 6.454839 |  3.967742 |  0.3064516 | -0.4387097 | 47.51613 | 34.96667 | 7.254167 | -0.1250000 | 9.956522 |\n",
       "\n"
      ],
      "text/plain": [
       "  year location     bloom_per species            tmax_4   tmax_5   tmax_6  \n",
       "1 2022 washingtondc 0.70      prunus_jamasakura  20.00000 24.81481 29.84333\n",
       "2 2022 liestal      0.25      prunus_avium       15.06000 17.22581 26.22000\n",
       "3 2022 kyoto        0.80      prunus_x_yedoensis 20.73333 24.80357 29.05517\n",
       "4 2022 vancouver    0.70      prunus_x_yedoensis 13.74000 16.30000 22.42143\n",
       "  tmax_7   tmax_8   tmax_9   ⋯ prcp_11    tmax_1   tmax_12   tmax_delta_1\n",
       "1 32.60645 32.10968 28.50000 ⋯   9.206897       NA        NA         NA  \n",
       "2 24.56129 23.50000 23.49333 ⋯  15.800000 6.151613  6.764516 -0.2741935  \n",
       "3 32.93000 32.45667 28.71333 ⋯  18.321429 8.222581 11.661290  0.1967742  \n",
       "4 24.02581 23.04839 18.58667 ⋯ 104.133333 6.454839  3.967742  0.3064516  \n",
       "  tmax_delta_12 prcp_1   prcp_12  tmax_2   tmax_delta_2 prcp_2  \n",
       "1         NA          NA       NA       NA         NA         NA\n",
       "2  0.3290323    12.51613 35.12903       NA         NA         NA\n",
       "3 -0.4967742    13.48387 30.38710 9.021739 -0.2181818   7.695652\n",
       "4 -0.4387097    47.51613 34.96667 7.254167 -0.1250000   9.956522"
      ]
     },
     "metadata": {},
     "output_type": "display_data"
    }
   ],
   "source": [
    "pred_data"
   ]
  },
  {
   "cell_type": "code",
   "execution_count": 19,
   "metadata": {},
   "outputs": [],
   "source": [
    "pred <- bloom_lm |> predict(pred_data)"
   ]
  },
  {
   "cell_type": "code",
   "execution_count": 20,
   "metadata": {},
   "outputs": [
    {
     "data": {
      "text/html": [
       "<style>\n",
       ".dl-inline {width: auto; margin:0; padding: 0}\n",
       ".dl-inline>dt, .dl-inline>dd {float: none; width: auto; display: inline-block}\n",
       ".dl-inline>dt::after {content: \":\\0020\"; padding-right: .5ex}\n",
       ".dl-inline>dt:not(:first-of-type) {padding-left: .5ex}\n",
       "</style><dl class=dl-inline><dt>1</dt><dd>&lt;NA&gt;</dd><dt>2</dt><dd>&lt;NA&gt;</dd><dt>3</dt><dd>99.4903335535705</dd><dt>4</dt><dd>103.789647218606</dd></dl>\n"
      ],
      "text/latex": [
       "\\begin{description*}\n",
       "\\item[1] <NA>\n",
       "\\item[2] <NA>\n",
       "\\item[3] 99.4903335535705\n",
       "\\item[4] 103.789647218606\n",
       "\\end{description*}\n"
      ],
      "text/markdown": [
       "1\n",
       ":   &lt;NA&gt;2\n",
       ":   &lt;NA&gt;3\n",
       ":   99.49033355357054\n",
       ":   103.789647218606\n",
       "\n"
      ],
      "text/plain": [
       "        1         2         3         4 \n",
       "       NA        NA  99.49033 103.78965 "
      ]
     },
     "metadata": {},
     "output_type": "display_data"
    }
   ],
   "source": [
    "pred"
   ]
  }
 ],
 "metadata": {
  "kernelspec": {
   "display_name": "R",
   "language": "R",
   "name": "ir"
  },
  "language_info": {
   "codemirror_mode": "r",
   "file_extension": ".r",
   "mimetype": "text/x-r-source",
   "name": "R",
   "pygments_lexer": "r",
   "version": "4.1.1"
  },
  "orig_nbformat": 4
 },
 "nbformat": 4,
 "nbformat_minor": 2
}
